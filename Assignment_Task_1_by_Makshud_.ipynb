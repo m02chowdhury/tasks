{
  "nbformat": 4,
  "nbformat_minor": 0,
  "metadata": {
    "colab": {
      "provenance": []
    },
    "kernelspec": {
      "name": "python3",
      "display_name": "Python 3"
    },
    "language_info": {
      "name": "python"
    }
  },
  "cells": [
    {
      "cell_type": "code",
      "execution_count": null,
      "metadata": {
        "colab": {
          "base_uri": "https://localhost:8080/"
        },
        "id": "c6mnDAnXVqrA",
        "outputId": "0d3b25cd-9710-49df-c798-1a21794c65ca"
      },
      "outputs": [
        {
          "output_type": "stream",
          "name": "stdout",
          "text": [
            "The Probability that the next attack occurs within 5 days is : 0.3935\n"
          ]
        }
      ],
      "source": [
        "import math\n",
        "\n",
        "# The mean time between attacks is 10 days\n",
        "# the rate parameter  for the exponential distribution is\n",
        "rate = 1/10  #  0.1\n",
        "\n",
        "# Here is the probability that the next attack happens within 5 days\n",
        "t = 5\n",
        "\n",
        "# I used the function of the exponential distribution: P(X <= t) = 1 - e^(-λt)\n",
        "prob = 1 - math.exp(-rate * t)\n",
        "\n",
        "print(f\"The Probability that the next attack occurs within 5 days is : {prob:.4f}\")\n"
      ]
    }
  ]
}